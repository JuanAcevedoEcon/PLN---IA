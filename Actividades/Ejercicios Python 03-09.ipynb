{
 "cells": [
  {
   "cell_type": "markdown",
   "id": "8dc5df09",
   "metadata": {},
   "source": [
    "### 2.) Ejercicios con colecciones\n",
    "\n",
    "1) Defina un diccionario de al menos 4 llaves de tal manera que esas llaves sean tuplas. Acceda a cada elemento. ¿Puede hacer lo mismo para una llave que sea definida como lista o diccionario?\n",
    "\n",
    "2) Crée dos listas, una lista para nombres de estudiantes y otra para nombres de profesores. El rector de la universidad le pide que almacene en un diccionario el nombre de todas las personas que pertenecen a la universidad sin importar su rol."
   ]
  },
  {
   "cell_type": "code",
   "execution_count": 1,
   "id": "0e5adfe9",
   "metadata": {},
   "outputs": [
    {
     "name": "stdout",
     "output_type": "stream",
     "text": [
      "1 2 3 4 5 6 7 8 9 10 11 12 "
     ]
    }
   ],
   "source": [
    "# 2.1\n",
    "\n",
    "diccionario = {(1,2,3):\"a,b,c\", (4,5,6):\"d,e,f\", (7,8,9):\"g,h,i\", (10,11,12):\"j,k,l\"}\n",
    "\n",
    "for key in diccionario.keys():\n",
    "    for i in key:\n",
    "        print(i, end = \" \")"
   ]
  },
  {
   "cell_type": "code",
   "execution_count": 2,
   "id": "0cad9641",
   "metadata": {},
   "outputs": [
    {
     "data": {
      "text/plain": [
       "{'Nombres': ['Juan', 'Camila', 'Sofía', 'Benavides', 'Moreno', 'Mario']}"
      ]
     },
     "execution_count": 2,
     "metadata": {},
     "output_type": "execute_result"
    }
   ],
   "source": [
    "# 2.2 \n",
    "\n",
    "nombres_estudiantes = [\"Juan\", \"Camila\", \"Sofía\"]\n",
    "nombres_profesores = [\"Benavides\", \"Moreno\", \"Mario\"]\n",
    "\n",
    "nombres_estudiantes.extend(nombres_profesores)\n",
    "miembros_u = {\"Nombres\":nombres_estudiantes}\n",
    "miembros_u"
   ]
  },
  {
   "cell_type": "markdown",
   "id": "fdafb40d",
   "metadata": {},
   "source": [
    "### 4.) Escriba un cuadreno en donde implemente una clase iterable que haga lo siguiente:\n",
    "1) Al inicio abra el archivo y lo suba a un dataframe de Pandas\n",
    "\n",
    "2) Entregue la información de la siguiente cuenta cuando se le pida el siguiente dato"
   ]
  },
  {
   "cell_type": "code",
   "execution_count": 3,
   "id": "f6c0e0a4",
   "metadata": {},
   "outputs": [],
   "source": [
    "import pandas as pd\n",
    "import numpy as np\n",
    "\n",
    "from datetime import datetime\n",
    "\n",
    "class CuentaBancaria:\n",
    "\n",
    "    id_cliente = 0\n",
    "    MIN_SALDO = -100_000\n",
    "    \n",
    "    def __init__(self, cliente, numero_cuenta, saldo=0, last_trans = np.nan):\n",
    "        self.cliente = cliente    \n",
    "        self.numero_cuenta = numero_cuenta\n",
    "        self.last_trans = last_trans\n",
    "        if saldo < self.MIN_SALDO:\n",
    "            raise ValueError(\"¡Saldo muy pequeño!\")\n",
    "        else:\n",
    "            self.saldo = saldo\n",
    "    \n",
    "    @classmethod\n",
    "    def from_xlsx(cls, filepath):\n",
    "        data = pd.read_excel(filepath)\n",
    "        header = data.columns\n",
    "        \n",
    "        if (cls.id_cliente + 1) <= len(data): # Validación existencia de clientes en DF\n",
    "            cliente, numero_cuenta, saldo, last_trans = data[header[0]][cls.id_cliente], data[header[1]][cls.id_cliente], data[header[2]][cls.id_cliente], data[header[3]][cls.id_cliente]\n",
    "            cls.id_cliente += 1\n",
    "        else:\n",
    "            raise ValueError(\"¡ID fuera del rango de datos!\")\n",
    "        \n",
    "        return cls(cliente, numero_cuenta, saldo, last_trans)\n",
    "\n",
    "    def deposito(self, monto):\n",
    "        self.saldo += monto\n",
    "        \n",
    "    def retiro(self, monto):\n",
    "        self.saldo -= monto\n",
    "    \n",
    "    def __eq__(self, other):\n",
    "        return True if self.numero_cuenta == other.numero_cuenta else False\n",
    "    \n",
    "    def __str__(self): # Brinda información de todo a la vez\n",
    "        return f\"\"\"\n",
    "          Cuenta Bancaria:\n",
    "          Propietario de la cuenta: {self.cliente}\n",
    "          Número de cuenta: {self.numero_cuenta}\n",
    "          Fecha de última transacción: {self.to_dash_date(str(self.last_trans))}\n",
    "          Saldo actual: {self.saldo:,}\n",
    "          \"\"\"\n",
    "     \n",
    "    def to_dash_date(self, date):\n",
    "        return date.replace(\"/\", \"-\")\n",
    "    \n",
    "    def __repr__(self): # Depura el objeto mostrando información más útil\n",
    "        return f\"CuentaBancaria(cliente='{self.cliente}', \" \\\n",
    "               f\"numero_cuenta={self.numero_cuenta}, \" \\\n",
    "               f\"Saldo: {self.saldo:,})\""
   ]
  },
  {
   "cell_type": "code",
   "execution_count": 4,
   "id": "cfc7c89e",
   "metadata": {},
   "outputs": [
    {
     "name": "stdout",
     "output_type": "stream",
     "text": [
      "Saldo inicial: 5,000,000\n",
      "Saldo final: 5,100,000\n",
      "\n",
      "          Cuenta Bancaria:\n",
      "          Propietario de la cuenta: 5300201021\n",
      "          Número de cuenta: Juan Felipe Acevedo\n",
      "          Fecha de última transacción: 2022-09-01 00:00:00\n",
      "          Saldo actual: 5,100,000\n",
      "          \n"
     ]
    }
   ],
   "source": [
    "path = r\"C:\\Users\\juaaceve\\Downloads\\Datos cuenta.xlsx\"\n",
    "\n",
    "# _____ Cliente 1 de base de datos _____\n",
    "cliente = CuentaBancaria.from_xlsx(path) # Creación de cliente dado información en path\n",
    "\n",
    "print(\"Saldo inicial: {:,}\".format(cliente.saldo)) # Imprimir saldo inicial\n",
    "cliente.deposito(100_000) # Depósito de 100_000\n",
    "print(\"Saldo final: {:,}\".format(cliente.saldo))\n",
    "\n",
    "# Imprimir información adicional del cliente\n",
    "print(cliente)"
   ]
  },
  {
   "cell_type": "code",
   "execution_count": 5,
   "id": "8b42e64a",
   "metadata": {},
   "outputs": [
    {
     "name": "stdout",
     "output_type": "stream",
     "text": [
      "Saldo inicial: 1,005,600\n",
      "Saldo final: 2,505,600\n",
      "\n",
      "          Cuenta Bancaria:\n",
      "          Propietario de la cuenta: 5300100291\n",
      "          Número de cuenta: Laura Camila Giraldo\n",
      "          Fecha de última transacción: 2022-08-31 00:00:00\n",
      "          Saldo actual: 2,505,600\n",
      "          \n"
     ]
    }
   ],
   "source": [
    "otro_cliente = CuentaBancaria.from_xlsx(path) # Creación de cliente dado información en path\n",
    "\n",
    "print(\"Saldo inicial: {:,}\".format(otro_cliente.saldo)) # Imprimir saldo inicial\n",
    "otro_cliente.deposito(1_650_000) # Depósito\n",
    "otro_cliente.retiro(150_000) # Retiro\n",
    "print(\"Saldo final: {:,}\".format(otro_cliente.saldo))\n",
    "\n",
    "# Imprimir información adicional del cliente\n",
    "print(otro_cliente)"
   ]
  },
  {
   "cell_type": "code",
   "execution_count": 6,
   "id": "114b25bc",
   "metadata": {},
   "outputs": [
    {
     "data": {
      "text/plain": [
       "False"
      ]
     },
     "execution_count": 6,
     "metadata": {},
     "output_type": "execute_result"
    }
   ],
   "source": [
    "cliente == otro_cliente # Validación de números de cuenta diferentes"
   ]
  }
 ],
 "metadata": {
  "kernelspec": {
   "display_name": "Python 3",
   "language": "python",
   "name": "python3"
  },
  "language_info": {
   "codemirror_mode": {
    "name": "ipython",
    "version": 3
   },
   "file_extension": ".py",
   "mimetype": "text/x-python",
   "name": "python",
   "nbconvert_exporter": "python",
   "pygments_lexer": "ipython3",
   "version": "3.8.8"
  }
 },
 "nbformat": 4,
 "nbformat_minor": 5
}
